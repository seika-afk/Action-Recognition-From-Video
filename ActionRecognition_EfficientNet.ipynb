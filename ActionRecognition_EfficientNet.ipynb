{
  "nbformat": 4,
  "nbformat_minor": 0,
  "metadata": {
    "colab": {
      "provenance": [],
      "gpuType": "T4"
    },
    "kernelspec": {
      "name": "python3",
      "display_name": "Python 3"
    },
    "language_info": {
      "name": "python"
    },
    "accelerator": "GPU"
  },
  "cells": [
    {
      "cell_type": "code",
      "source": [
        "!pip install remotezip --quiet"
      ],
      "metadata": {
        "id": "1FocwKPUQi4E"
      },
      "execution_count": 3,
      "outputs": []
    },
    {
      "cell_type": "code",
      "execution_count": 30,
      "metadata": {
        "id": "R8aFLHPJTJH5"
      },
      "outputs": [],
      "source": [
        "import tqdm\n",
        "import random\n",
        "import pathlib\n",
        "import itertools\n",
        "import collections\n",
        "import os\n",
        "import cv2\n",
        "import einops\n",
        "import numpy as np\n",
        "# !pip install remotezip\n",
        "import remotezip as rz\n",
        "import seaborn as sns\n",
        "import tensorflow as tf\n",
        "import keras\n",
        "from keras import layers\n"
      ]
    },
    {
      "cell_type": "markdown",
      "source": [
        "# DATA LOADING\n"
      ],
      "metadata": {
        "id": "2kmDZlHEW7aj"
      }
    },
    {
      "cell_type": "code",
      "source": [
        "#modules to display animation using imageio\n",
        "import imageio\n",
        "from IPython import display\n",
        "from urllib import request\n",
        "!pip install tensorflow_docs\n",
        "from tensorflow_docs.vis import embed"
      ],
      "metadata": {
        "colab": {
          "base_uri": "https://localhost:8080/"
        },
        "collapsed": true,
        "id": "HQB3DB_dZ2_1",
        "outputId": "7064ca38-75c4-46ab-f5a2-ccb5ae5a6b12"
      },
      "execution_count": 5,
      "outputs": [
        {
          "output_type": "stream",
          "name": "stdout",
          "text": [
            "Collecting tensorflow_docs\n",
            "  Downloading tensorflow_docs-2025.2.19.33219-py3-none-any.whl.metadata (1.1 kB)\n",
            "Collecting astor (from tensorflow_docs)\n",
            "  Downloading astor-0.8.1-py2.py3-none-any.whl.metadata (4.2 kB)\n",
            "Requirement already satisfied: absl-py in /usr/local/lib/python3.11/dist-packages (from tensorflow_docs) (1.4.0)\n",
            "Requirement already satisfied: jinja2 in /usr/local/lib/python3.11/dist-packages (from tensorflow_docs) (3.1.6)\n",
            "Requirement already satisfied: nbformat in /usr/local/lib/python3.11/dist-packages (from tensorflow_docs) (5.10.4)\n",
            "Requirement already satisfied: protobuf>=3.12 in /usr/local/lib/python3.11/dist-packages (from tensorflow_docs) (5.29.5)\n",
            "Requirement already satisfied: pyyaml in /usr/local/lib/python3.11/dist-packages (from tensorflow_docs) (6.0.2)\n",
            "Requirement already satisfied: MarkupSafe>=2.0 in /usr/local/lib/python3.11/dist-packages (from jinja2->tensorflow_docs) (3.0.2)\n",
            "Requirement already satisfied: fastjsonschema>=2.15 in /usr/local/lib/python3.11/dist-packages (from nbformat->tensorflow_docs) (2.21.1)\n",
            "Requirement already satisfied: jsonschema>=2.6 in /usr/local/lib/python3.11/dist-packages (from nbformat->tensorflow_docs) (4.24.0)\n",
            "Requirement already satisfied: jupyter-core!=5.0.*,>=4.12 in /usr/local/lib/python3.11/dist-packages (from nbformat->tensorflow_docs) (5.8.1)\n",
            "Requirement already satisfied: traitlets>=5.1 in /usr/local/lib/python3.11/dist-packages (from nbformat->tensorflow_docs) (5.7.1)\n",
            "Requirement already satisfied: attrs>=22.2.0 in /usr/local/lib/python3.11/dist-packages (from jsonschema>=2.6->nbformat->tensorflow_docs) (25.3.0)\n",
            "Requirement already satisfied: jsonschema-specifications>=2023.03.6 in /usr/local/lib/python3.11/dist-packages (from jsonschema>=2.6->nbformat->tensorflow_docs) (2025.4.1)\n",
            "Requirement already satisfied: referencing>=0.28.4 in /usr/local/lib/python3.11/dist-packages (from jsonschema>=2.6->nbformat->tensorflow_docs) (0.36.2)\n",
            "Requirement already satisfied: rpds-py>=0.7.1 in /usr/local/lib/python3.11/dist-packages (from jsonschema>=2.6->nbformat->tensorflow_docs) (0.26.0)\n",
            "Requirement already satisfied: platformdirs>=2.5 in /usr/local/lib/python3.11/dist-packages (from jupyter-core!=5.0.*,>=4.12->nbformat->tensorflow_docs) (4.3.8)\n",
            "Requirement already satisfied: typing-extensions>=4.4.0 in /usr/local/lib/python3.11/dist-packages (from referencing>=0.28.4->jsonschema>=2.6->nbformat->tensorflow_docs) (4.14.0)\n",
            "Downloading tensorflow_docs-2025.2.19.33219-py3-none-any.whl (182 kB)\n",
            "\u001b[?25l   \u001b[90m━━━━━━━━━━━━━━━━━━━━━━━━━━━━━━━━━━━━━━━━\u001b[0m \u001b[32m0.0/182.7 kB\u001b[0m \u001b[31m?\u001b[0m eta \u001b[36m-:--:--\u001b[0m\r\u001b[2K   \u001b[90m━━━━━━━━━━━━━━━━━━━━━━━━━━━━━━━━━━━━━━━━\u001b[0m \u001b[32m182.7/182.7 kB\u001b[0m \u001b[31m13.6 MB/s\u001b[0m eta \u001b[36m0:00:00\u001b[0m\n",
            "\u001b[?25hDownloading astor-0.8.1-py2.py3-none-any.whl (27 kB)\n",
            "Installing collected packages: astor, tensorflow_docs\n",
            "Successfully installed astor-0.8.1 tensorflow_docs-2025.2.19.33219\n"
          ]
        }
      ]
    },
    {
      "cell_type": "code",
      "source": [
        "URL=\"https://storage.googleapis.com/thumos14_files/UCF101_videos.zip\""
      ],
      "metadata": {
        "id": "Gi79dPWHU4l6"
      },
      "execution_count": 6,
      "outputs": []
    },
    {
      "cell_type": "code",
      "source": [
        "def list_files_via_zip_with(url):\n",
        "  files=[]\n",
        "  with rz.RemoteZip(url) as zip:\n",
        "    for zip_info in zip.infolist():\n",
        "      files.append(zip_info.filename)\n",
        "  return files\n"
      ],
      "metadata": {
        "id": "PSPTMsq8ajA8"
      },
      "execution_count": 7,
      "outputs": []
    },
    {
      "cell_type": "code",
      "source": [
        "files=list_files_via_zip_with(URL)"
      ],
      "metadata": {
        "id": "V600Ys0YNfO5"
      },
      "execution_count": 8,
      "outputs": []
    },
    {
      "cell_type": "code",
      "source": [
        "files=[file for file in files if file.endswith('.avi')]# store file only if it ends with .avi"
      ],
      "metadata": {
        "id": "ME8se5iKNv4K"
      },
      "execution_count": 9,
      "outputs": []
    },
    {
      "cell_type": "code",
      "source": [
        "files[:10]"
      ],
      "metadata": {
        "colab": {
          "base_uri": "https://localhost:8080/"
        },
        "id": "Oo66XT3SN9od",
        "outputId": "6f50bce4-287a-4d34-c94c-5278066c9b8b"
      },
      "execution_count": 10,
      "outputs": [
        {
          "output_type": "execute_result",
          "data": {
            "text/plain": [
              "['UCF101/v_ApplyEyeMakeup_g01_c01.avi',\n",
              " 'UCF101/v_ApplyEyeMakeup_g01_c02.avi',\n",
              " 'UCF101/v_ApplyEyeMakeup_g01_c03.avi',\n",
              " 'UCF101/v_ApplyEyeMakeup_g01_c04.avi',\n",
              " 'UCF101/v_ApplyEyeMakeup_g01_c05.avi',\n",
              " 'UCF101/v_ApplyEyeMakeup_g01_c06.avi',\n",
              " 'UCF101/v_ApplyEyeMakeup_g02_c01.avi',\n",
              " 'UCF101/v_ApplyEyeMakeup_g02_c02.avi',\n",
              " 'UCF101/v_ApplyEyeMakeup_g02_c03.avi',\n",
              " 'UCF101/v_ApplyEyeMakeup_g02_c04.avi']"
            ]
          },
          "metadata": {},
          "execution_count": 10
        }
      ]
    },
    {
      "cell_type": "code",
      "source": [
        "def get_class (fname):\n",
        "  return fname.split('_')[-3]"
      ],
      "metadata": {
        "id": "ZK6EkiJCONYa"
      },
      "execution_count": 11,
      "outputs": []
    },
    {
      "cell_type": "code",
      "source": [
        "get_class('UCF101/v_ApplyEyeMakeup_g01_c01.av')"
      ],
      "metadata": {
        "id": "gKh1F7VXPMBZ",
        "colab": {
          "base_uri": "https://localhost:8080/",
          "height": 38
        },
        "outputId": "2116eccf-a387-457e-cefb-3c492a7bf28c"
      },
      "execution_count": 12,
      "outputs": [
        {
          "output_type": "execute_result",
          "data": {
            "text/plain": [
              "'ApplyEyeMakeup'"
            ],
            "application/vnd.google.colaboratory.intrinsic+json": {
              "type": "string"
            }
          },
          "metadata": {},
          "execution_count": 12
        }
      ]
    },
    {
      "cell_type": "code",
      "source": [
        "def get_files_per_class(files):\n",
        "  class_with_files=collections.defaultdict(list)\n",
        "  for file in files:\n",
        "    class_name=get_class(file)\n",
        "    class_with_files[class_name].append(file)\n",
        "  return class_with_files"
      ],
      "metadata": {
        "id": "JWsP4GMfPQJe"
      },
      "execution_count": 14,
      "outputs": []
    },
    {
      "cell_type": "code",
      "source": [
        "NUM_CLASSES=10\n",
        "FILES_PER_CLASS=50"
      ],
      "metadata": {
        "id": "2aJJtTeUQQaN"
      },
      "execution_count": 15,
      "outputs": []
    },
    {
      "cell_type": "code",
      "source": [
        "files_for_class=get_files_per_class(files)\n",
        "classes=list(files_for_class.keys())"
      ],
      "metadata": {
        "id": "9b30gnsTQqP-"
      },
      "execution_count": 16,
      "outputs": []
    },
    {
      "cell_type": "code",
      "source": [
        "len(classes)\n",
        "# len(files_for_class[classes[0]])"
      ],
      "metadata": {
        "colab": {
          "base_uri": "https://localhost:8080/"
        },
        "id": "5_7-J0T8Qx6-",
        "outputId": "560bd8ee-d5ab-4902-b616-df0662b9d218"
      },
      "execution_count": 17,
      "outputs": [
        {
          "output_type": "execute_result",
          "data": {
            "text/plain": [
              "101"
            ]
          },
          "metadata": {},
          "execution_count": 17
        }
      ]
    },
    {
      "cell_type": "code",
      "source": [
        "#145 vids,101 categories"
      ],
      "metadata": {
        "id": "DyCfzkTiQzLC"
      },
      "execution_count": null,
      "outputs": []
    },
    {
      "cell_type": "code",
      "source": [
        "def select_subset_of_classes(files_for_class,classes,files_per_class):\n",
        "  files_subset=dict()\n",
        "  for class_name in classes:\n",
        "    class_files=files_for_class[class_name]\n",
        "    files_subset[class_name]=class_files[:files_per_class]\n",
        "  return files_subset"
      ],
      "metadata": {
        "id": "PSq0psyeRMPp"
      },
      "execution_count": 18,
      "outputs": []
    },
    {
      "cell_type": "code",
      "source": [
        "files_subset=select_subset_of_classes(files_for_class,classes[:NUM_CLASSES],FILES_PER_CLASS)"
      ],
      "metadata": {
        "id": "LsQfRPfmSbZQ"
      },
      "execution_count": 19,
      "outputs": []
    },
    {
      "cell_type": "code",
      "source": [
        "len(files_subset['ApplyEyeMakeup'])"
      ],
      "metadata": {
        "colab": {
          "base_uri": "https://localhost:8080/"
        },
        "id": "JGoyfUutSykL",
        "outputId": "4b52451c-a530-4be4-d986-d0070adccaf2"
      },
      "execution_count": 20,
      "outputs": [
        {
          "output_type": "execute_result",
          "data": {
            "text/plain": [
              "50"
            ]
          },
          "metadata": {},
          "execution_count": 20
        }
      ]
    },
    {
      "cell_type": "code",
      "source": [
        "def download_videos(url,to_dir,file_names):\n",
        "  with rz.RemoteZip(url) as zip:\n",
        "    for fn in tqdm.tqdm(file_names):\n",
        "      class_name=get_class(fn)\n",
        "      zip.extract(fn,str(to_dir/class_name))\n",
        "      unzipped_file=to_dir/class_name/fn\n",
        "\n",
        "      fn = pathlib.Path(fn).parts[-1]\n",
        "      output_file = to_dir / class_name / fn\n",
        "      unzipped_file.rename(output_file)"
      ],
      "metadata": {
        "id": "RYeWzqx5S1pZ"
      },
      "execution_count": 32,
      "outputs": []
    },
    {
      "cell_type": "code",
      "source": [
        "files_for_class[classes[2]][:5]"
      ],
      "metadata": {
        "colab": {
          "base_uri": "https://localhost:8080/"
        },
        "id": "pwkq_NwuS296",
        "outputId": "d9e75eb0-d0a1-45d7-c301-1a8398b2077b"
      },
      "execution_count": 33,
      "outputs": [
        {
          "output_type": "execute_result",
          "data": {
            "text/plain": [
              "['UCF101/v_Archery_g01_c01.avi',\n",
              " 'UCF101/v_Archery_g01_c02.avi',\n",
              " 'UCF101/v_Archery_g01_c03.avi',\n",
              " 'UCF101/v_Archery_g01_c04.avi',\n",
              " 'UCF101/v_Archery_g01_c05.avi']"
            ]
          },
          "metadata": {},
          "execution_count": 33
        }
      ]
    },
    {
      "cell_type": "code",
      "source": [
        "def split_class_lists(files_for_class,count):\n",
        "  split_files=[]\n",
        "  remainder={}\n",
        "  for cls in files_for_class:\n",
        "    split_files.extend(files_for_class[cls][:count])\n",
        "    remainder[cls]=files_for_class[cls][count:]\n",
        "  return split_files,remainder"
      ],
      "metadata": {
        "id": "AntIZiTxSZlJ"
      },
      "execution_count": 34,
      "outputs": []
    },
    {
      "cell_type": "code",
      "source": [
        "def download_dataset(zip_url,num_classes,splits,download_dir):\n",
        "\n",
        "  files=list_files_via_zip_with(zip_url)\n",
        "  for f in files:\n",
        "#removing // or etc\n",
        "    path=os.path.normpath(f)\n",
        "# splitting name of file\n",
        "    tokens=path.split(os.sep)\n",
        "    if len(tokens)<=2:\n",
        "      files.remove(f) # remove file  if no filename\n",
        "  #getting files with classes :limited acc to arguements\n",
        "  files_for_class=get_files_per_class(files)\n",
        "  #get limited classes\n",
        "  classes=list(files_for_class.keys())[:num_classes]\n",
        "\n",
        "  for cls in classes:\n",
        "    random.shuffle(files_for_class[cls])\n",
        "\n",
        "  #only is the number of classes u want in dictionary\n",
        "  files_for_class={cls : files_for_class[cls] for cls in classes}\n",
        "\n",
        "  dirs={}\n",
        "\n",
        "  for split_name,split_count in splits.items():\n",
        "    print(split_name,\" :\")\n",
        "\n",
        "    split_dir=download_dir/split_name\n",
        "    split_files,files_for_class =split_class_lists(files_for_class,split_count)\n",
        "\n",
        "    download_videos(zip_url,split_dir,split_files)\n",
        "    dirs[split_name]=split_dir\n",
        "  return dirs\n"
      ],
      "metadata": {
        "id": "V3EE_ZIJTKM1"
      },
      "execution_count": 35,
      "outputs": []
    },
    {
      "cell_type": "code",
      "source": [
        "download_dir=pathlib.Path('./content/UCF101_subset/')\n",
        "subset_paths=download_dataset(URL,NUM_CLASSES,{'train':30,'val':10,'test':10},download_dir)"
      ],
      "metadata": {
        "colab": {
          "base_uri": "https://localhost:8080/"
        },
        "id": "7dFK9VrpbGRR",
        "outputId": "ccfb2b9b-d92c-486c-af79-a3b14f8e3d34"
      },
      "execution_count": 36,
      "outputs": [
        {
          "output_type": "stream",
          "name": "stdout",
          "text": [
            "train  :\n"
          ]
        },
        {
          "output_type": "stream",
          "name": "stderr",
          "text": [
            "100%|██████████| 300/300 [05:22<00:00,  1.07s/it]\n"
          ]
        },
        {
          "output_type": "stream",
          "name": "stdout",
          "text": [
            "val  :\n"
          ]
        },
        {
          "output_type": "stream",
          "name": "stderr",
          "text": [
            "100%|██████████| 100/100 [01:34<00:00,  1.06it/s]\n"
          ]
        },
        {
          "output_type": "stream",
          "name": "stdout",
          "text": [
            "test  :\n"
          ]
        },
        {
          "output_type": "stream",
          "name": "stderr",
          "text": [
            "100%|██████████| 100/100 [01:37<00:00,  1.03it/s]\n"
          ]
        }
      ]
    },
    {
      "cell_type": "code",
      "source": [
        "video_count_train = len(list(download_dir.glob('train/*/*.avi')))\n",
        "video_count_val = len(list(download_dir.glob('val/*/*.avi')))\n",
        "video_count_test = len(list(download_dir.glob('test/*/*.avi')))\n",
        "video_total = video_count_train + video_count_val + video_count_test\n",
        "print(f\"Total videos: {video_total}\")"
      ],
      "metadata": {
        "colab": {
          "base_uri": "https://localhost:8080/"
        },
        "id": "PwuPzD2Wd88e",
        "outputId": "38ad23bf-1211-4e87-a820-59d8c907ff30"
      },
      "execution_count": 37,
      "outputs": [
        {
          "output_type": "stream",
          "name": "stdout",
          "text": [
            "Total videos: 500\n"
          ]
        }
      ]
    },
    {
      "cell_type": "code",
      "source": [
        "!find ./content/UCF101_subset\n"
      ],
      "metadata": {
        "colab": {
          "base_uri": "https://localhost:8080/"
        },
        "id": "1NV6-1OvgHoY",
        "outputId": "918cd06d-1b0a-444b-c684-bedb4a253a18"
      },
      "execution_count": 39,
      "outputs": [
        {
          "output_type": "stream",
          "name": "stdout",
          "text": [
            "./content/UCF101_subset\n",
            "./content/UCF101_subset/train\n",
            "./content/UCF101_subset/train/Archery\n",
            "./content/UCF101_subset/train/Archery/v_Archery_g06_c05.avi\n",
            "./content/UCF101_subset/train/Archery/v_Archery_g20_c05.avi\n",
            "./content/UCF101_subset/train/Archery/v_Archery_g11_c06.avi\n",
            "./content/UCF101_subset/train/Archery/v_Archery_g16_c01.avi\n",
            "./content/UCF101_subset/train/Archery/v_Archery_g21_c04.avi\n",
            "./content/UCF101_subset/train/Archery/UCF101\n",
            "./content/UCF101_subset/train/Archery/v_Archery_g06_c01.avi\n",
            "./content/UCF101_subset/train/Archery/v_Archery_g11_c04.avi\n",
            "./content/UCF101_subset/train/Archery/v_Archery_g03_c04.avi\n",
            "./content/UCF101_subset/train/Archery/v_Archery_g20_c07.avi\n",
            "./content/UCF101_subset/train/Archery/v_Archery_g02_c03.avi\n",
            "./content/UCF101_subset/train/Archery/v_Archery_g15_c02.avi\n",
            "./content/UCF101_subset/train/Archery/v_Archery_g08_c01.avi\n",
            "./content/UCF101_subset/train/Archery/v_Archery_g12_c01.avi\n",
            "./content/UCF101_subset/train/Archery/v_Archery_g02_c05.avi\n",
            "./content/UCF101_subset/train/Archery/v_Archery_g18_c06.avi\n",
            "./content/UCF101_subset/train/Archery/v_Archery_g04_c03.avi\n",
            "./content/UCF101_subset/train/Archery/v_Archery_g09_c06.avi\n",
            "./content/UCF101_subset/train/Archery/v_Archery_g08_c05.avi\n",
            "./content/UCF101_subset/train/Archery/v_Archery_g18_c02.avi\n",
            "./content/UCF101_subset/train/Archery/v_Archery_g10_c03.avi\n",
            "./content/UCF101_subset/train/Archery/v_Archery_g24_c02.avi\n",
            "./content/UCF101_subset/train/Archery/v_Archery_g23_c03.avi\n",
            "./content/UCF101_subset/train/Archery/v_Archery_g15_c06.avi\n",
            "./content/UCF101_subset/train/Archery/v_Archery_g25_c04.avi\n",
            "./content/UCF101_subset/train/Archery/v_Archery_g16_c05.avi\n",
            "./content/UCF101_subset/train/Archery/v_Archery_g13_c07.avi\n",
            "./content/UCF101_subset/train/Archery/v_Archery_g10_c01.avi\n",
            "./content/UCF101_subset/train/Archery/v_Archery_g06_c03.avi\n",
            "./content/UCF101_subset/train/Archery/v_Archery_g04_c05.avi\n",
            "./content/UCF101_subset/train/Archery/v_Archery_g10_c07.avi\n",
            "./content/UCF101_subset/train/ApplyEyeMakeup\n",
            "./content/UCF101_subset/train/ApplyEyeMakeup/v_ApplyEyeMakeup_g22_c01.avi\n",
            "./content/UCF101_subset/train/ApplyEyeMakeup/v_ApplyEyeMakeup_g10_c03.avi\n",
            "./content/UCF101_subset/train/ApplyEyeMakeup/v_ApplyEyeMakeup_g04_c01.avi\n",
            "./content/UCF101_subset/train/ApplyEyeMakeup/v_ApplyEyeMakeup_g17_c04.avi\n",
            "./content/UCF101_subset/train/ApplyEyeMakeup/v_ApplyEyeMakeup_g24_c06.avi\n",
            "./content/UCF101_subset/train/ApplyEyeMakeup/UCF101\n",
            "./content/UCF101_subset/train/ApplyEyeMakeup/v_ApplyEyeMakeup_g08_c05.avi\n",
            "./content/UCF101_subset/train/ApplyEyeMakeup/v_ApplyEyeMakeup_g02_c03.avi\n",
            "./content/UCF101_subset/train/ApplyEyeMakeup/v_ApplyEyeMakeup_g04_c05.avi\n",
            "./content/UCF101_subset/train/ApplyEyeMakeup/v_ApplyEyeMakeup_g15_c04.avi\n",
            "./content/UCF101_subset/train/ApplyEyeMakeup/v_ApplyEyeMakeup_g01_c01.avi\n",
            "./content/UCF101_subset/train/ApplyEyeMakeup/v_ApplyEyeMakeup_g03_c05.avi\n",
            "./content/UCF101_subset/train/ApplyEyeMakeup/v_ApplyEyeMakeup_g17_c02.avi\n",
            "./content/UCF101_subset/train/ApplyEyeMakeup/v_ApplyEyeMakeup_g14_c03.avi\n",
            "./content/UCF101_subset/train/ApplyEyeMakeup/v_ApplyEyeMakeup_g13_c01.avi\n",
            "./content/UCF101_subset/train/ApplyEyeMakeup/v_ApplyEyeMakeup_g13_c05.avi\n",
            "./content/UCF101_subset/train/ApplyEyeMakeup/v_ApplyEyeMakeup_g22_c05.avi\n",
            "./content/UCF101_subset/train/ApplyEyeMakeup/v_ApplyEyeMakeup_g05_c04.avi\n",
            "./content/UCF101_subset/train/ApplyEyeMakeup/v_ApplyEyeMakeup_g23_c06.avi\n",
            "./content/UCF101_subset/train/ApplyEyeMakeup/v_ApplyEyeMakeup_g25_c01.avi\n",
            "./content/UCF101_subset/train/ApplyEyeMakeup/v_ApplyEyeMakeup_g18_c03.avi\n",
            "./content/UCF101_subset/train/ApplyEyeMakeup/v_ApplyEyeMakeup_g20_c04.avi\n",
            "./content/UCF101_subset/train/ApplyEyeMakeup/v_ApplyEyeMakeup_g14_c01.avi\n",
            "./content/UCF101_subset/train/ApplyEyeMakeup/v_ApplyEyeMakeup_g06_c05.avi\n",
            "./content/UCF101_subset/train/ApplyEyeMakeup/v_ApplyEyeMakeup_g25_c07.avi\n",
            "./content/UCF101_subset/train/ApplyEyeMakeup/v_ApplyEyeMakeup_g05_c02.avi\n",
            "./content/UCF101_subset/train/ApplyEyeMakeup/v_ApplyEyeMakeup_g06_c07.avi\n",
            "./content/UCF101_subset/train/ApplyEyeMakeup/v_ApplyEyeMakeup_g03_c03.avi\n",
            "./content/UCF101_subset/train/ApplyEyeMakeup/v_ApplyEyeMakeup_g06_c03.avi\n",
            "./content/UCF101_subset/train/ApplyEyeMakeup/v_ApplyEyeMakeup_g09_c02.avi\n",
            "./content/UCF101_subset/train/ApplyEyeMakeup/v_ApplyEyeMakeup_g09_c04.avi\n",
            "./content/UCF101_subset/train/BabyCrawling\n",
            "./content/UCF101_subset/train/BabyCrawling/v_BabyCrawling_g20_c05.avi\n",
            "./content/UCF101_subset/train/BabyCrawling/v_BabyCrawling_g13_c05.avi\n",
            "./content/UCF101_subset/train/BabyCrawling/v_BabyCrawling_g22_c06.avi\n",
            "./content/UCF101_subset/train/BabyCrawling/v_BabyCrawling_g23_c03.avi\n",
            "./content/UCF101_subset/train/BabyCrawling/v_BabyCrawling_g16_c05.avi\n",
            "./content/UCF101_subset/train/BabyCrawling/v_BabyCrawling_g14_c03.avi\n",
            "./content/UCF101_subset/train/BabyCrawling/v_BabyCrawling_g18_c02.avi\n",
            "./content/UCF101_subset/train/BabyCrawling/v_BabyCrawling_g16_c03.avi\n",
            "./content/UCF101_subset/train/BabyCrawling/v_BabyCrawling_g06_c02.avi\n",
            "./content/UCF101_subset/train/BabyCrawling/v_BabyCrawling_g24_c01.avi\n",
            "./content/UCF101_subset/train/BabyCrawling/v_BabyCrawling_g21_c04.avi\n",
            "./content/UCF101_subset/train/BabyCrawling/v_BabyCrawling_g15_c03.avi\n",
            "./content/UCF101_subset/train/BabyCrawling/UCF101\n",
            "./content/UCF101_subset/train/BabyCrawling/v_BabyCrawling_g12_c03.avi\n",
            "./content/UCF101_subset/train/BabyCrawling/v_BabyCrawling_g12_c01.avi\n",
            "./content/UCF101_subset/train/BabyCrawling/v_BabyCrawling_g22_c02.avi\n",
            "./content/UCF101_subset/train/BabyCrawling/v_BabyCrawling_g01_c01.avi\n",
            "./content/UCF101_subset/train/BabyCrawling/v_BabyCrawling_g02_c03.avi\n",
            "./content/UCF101_subset/train/BabyCrawling/v_BabyCrawling_g09_c04.avi\n",
            "./content/UCF101_subset/train/BabyCrawling/v_BabyCrawling_g24_c05.avi\n",
            "./content/UCF101_subset/train/BabyCrawling/v_BabyCrawling_g20_c03.avi\n",
            "./content/UCF101_subset/train/BabyCrawling/v_BabyCrawling_g07_c06.avi\n",
            "./content/UCF101_subset/train/BabyCrawling/v_BabyCrawling_g03_c03.avi\n",
            "./content/UCF101_subset/train/BabyCrawling/v_BabyCrawling_g02_c05.avi\n",
            "./content/UCF101_subset/train/BabyCrawling/v_BabyCrawling_g19_c04.avi\n",
            "./content/UCF101_subset/train/BabyCrawling/v_BabyCrawling_g05_c01.avi\n",
            "./content/UCF101_subset/train/BabyCrawling/v_BabyCrawling_g21_c02.avi\n",
            "./content/UCF101_subset/train/BabyCrawling/v_BabyCrawling_g07_c02.avi\n",
            "./content/UCF101_subset/train/BabyCrawling/v_BabyCrawling_g09_c02.avi\n",
            "./content/UCF101_subset/train/BabyCrawling/v_BabyCrawling_g23_c01.avi\n",
            "./content/UCF101_subset/train/BabyCrawling/v_BabyCrawling_g05_c05.avi\n",
            "./content/UCF101_subset/train/ApplyLipstick\n",
            "./content/UCF101_subset/train/ApplyLipstick/v_ApplyLipstick_g22_c06.avi\n",
            "./content/UCF101_subset/train/ApplyLipstick/v_ApplyLipstick_g16_c02.avi\n",
            "./content/UCF101_subset/train/ApplyLipstick/v_ApplyLipstick_g06_c05.avi\n",
            "./content/UCF101_subset/train/ApplyLipstick/v_ApplyLipstick_g21_c03.avi\n",
            "./content/UCF101_subset/train/ApplyLipstick/v_ApplyLipstick_g04_c03.avi\n",
            "./content/UCF101_subset/train/ApplyLipstick/v_ApplyLipstick_g14_c01.avi\n",
            "./content/UCF101_subset/train/ApplyLipstick/v_ApplyLipstick_g24_c01.avi\n",
            "./content/UCF101_subset/train/ApplyLipstick/v_ApplyLipstick_g10_c02.avi\n",
            "./content/UCF101_subset/train/ApplyLipstick/UCF101\n",
            "./content/UCF101_subset/train/ApplyLipstick/v_ApplyLipstick_g20_c02.avi\n",
            "./content/UCF101_subset/train/ApplyLipstick/v_ApplyLipstick_g12_c02.avi\n",
            "./content/UCF101_subset/train/ApplyLipstick/v_ApplyLipstick_g04_c01.avi\n",
            "./content/UCF101_subset/train/ApplyLipstick/v_ApplyLipstick_g23_c01.avi\n",
            "./content/UCF101_subset/train/ApplyLipstick/v_ApplyLipstick_g21_c05.avi\n",
            "./content/UCF101_subset/train/ApplyLipstick/v_ApplyLipstick_g19_c02.avi\n",
            "./content/UCF101_subset/train/ApplyLipstick/v_ApplyLipstick_g02_c03.avi\n",
            "./content/UCF101_subset/train/ApplyLipstick/v_ApplyLipstick_g13_c03.avi\n",
            "./content/UCF101_subset/train/ApplyLipstick/v_ApplyLipstick_g09_c02.avi\n",
            "./content/UCF101_subset/train/ApplyLipstick/v_ApplyLipstick_g05_c04.avi\n",
            "./content/UCF101_subset/train/ApplyLipstick/v_ApplyLipstick_g23_c03.avi\n",
            "./content/UCF101_subset/train/ApplyLipstick/v_ApplyLipstick_g11_c04.avi\n",
            "./content/UCF101_subset/train/ApplyLipstick/v_ApplyLipstick_g18_c02.avi\n",
            "./content/UCF101_subset/train/ApplyLipstick/v_ApplyLipstick_g03_c01.avi\n",
            "./content/UCF101_subset/train/ApplyLipstick/v_ApplyLipstick_g03_c03.avi\n",
            "./content/UCF101_subset/train/ApplyLipstick/v_ApplyLipstick_g22_c04.avi\n",
            "./content/UCF101_subset/train/ApplyLipstick/v_ApplyLipstick_g24_c05.avi\n",
            "./content/UCF101_subset/train/ApplyLipstick/v_ApplyLipstick_g06_c01.avi\n",
            "./content/UCF101_subset/train/ApplyLipstick/v_ApplyLipstick_g16_c04.avi\n",
            "./content/UCF101_subset/train/ApplyLipstick/v_ApplyLipstick_g02_c01.avi\n",
            "./content/UCF101_subset/train/ApplyLipstick/v_ApplyLipstick_g12_c04.avi\n",
            "./content/UCF101_subset/train/ApplyLipstick/v_ApplyLipstick_g17_c05.avi\n",
            "./content/UCF101_subset/train/BalanceBeam\n",
            "./content/UCF101_subset/train/BalanceBeam/v_BalanceBeam_g12_c02.avi\n",
            "./content/UCF101_subset/train/BalanceBeam/v_BalanceBeam_g17_c03.avi\n",
            "./content/UCF101_subset/train/BalanceBeam/v_BalanceBeam_g25_c03.avi\n",
            "./content/UCF101_subset/train/BalanceBeam/v_BalanceBeam_g06_c07.avi\n",
            "./content/UCF101_subset/train/BalanceBeam/v_BalanceBeam_g11_c04.avi\n",
            "./content/UCF101_subset/train/BalanceBeam/v_BalanceBeam_g13_c04.avi\n",
            "./content/UCF101_subset/train/BalanceBeam/v_BalanceBeam_g05_c03.avi\n",
            "./content/UCF101_subset/train/BalanceBeam/v_BalanceBeam_g15_c01.avi\n",
            "./content/UCF101_subset/train/BalanceBeam/v_BalanceBeam_g10_c04.avi\n",
            "./content/UCF101_subset/train/BalanceBeam/v_BalanceBeam_g16_c01.avi\n",
            "./content/UCF101_subset/train/BalanceBeam/v_BalanceBeam_g04_c03.avi\n",
            "./content/UCF101_subset/train/BalanceBeam/UCF101\n",
            "./content/UCF101_subset/train/BalanceBeam/v_BalanceBeam_g18_c01.avi\n",
            "./content/UCF101_subset/train/BalanceBeam/v_BalanceBeam_g19_c03.avi\n",
            "./content/UCF101_subset/train/BalanceBeam/v_BalanceBeam_g13_c02.avi\n",
            "./content/UCF101_subset/train/BalanceBeam/v_BalanceBeam_g09_c02.avi\n",
            "./content/UCF101_subset/train/BalanceBeam/v_BalanceBeam_g04_c01.avi\n",
            "./content/UCF101_subset/train/BalanceBeam/v_BalanceBeam_g19_c01.avi\n",
            "./content/UCF101_subset/train/BalanceBeam/v_BalanceBeam_g21_c01.avi\n",
            "./content/UCF101_subset/train/BalanceBeam/v_BalanceBeam_g21_c05.avi\n",
            "./content/UCF101_subset/train/BalanceBeam/v_BalanceBeam_g07_c02.avi\n",
            "./content/UCF101_subset/train/BalanceBeam/v_BalanceBeam_g05_c01.avi\n",
            "./content/UCF101_subset/train/BalanceBeam/v_BalanceBeam_g16_c03.avi\n",
            "./content/UCF101_subset/train/BalanceBeam/v_BalanceBeam_g23_c04.avi\n",
            "./content/UCF101_subset/train/BalanceBeam/v_BalanceBeam_g03_c01.avi\n",
            "./content/UCF101_subset/train/BalanceBeam/v_BalanceBeam_g25_c01.avi\n",
            "./content/UCF101_subset/train/BalanceBeam/v_BalanceBeam_g17_c01.avi\n",
            "./content/UCF101_subset/train/BalanceBeam/v_BalanceBeam_g09_c04.avi\n",
            "./content/UCF101_subset/train/BalanceBeam/v_BalanceBeam_g07_c04.avi\n",
            "./content/UCF101_subset/train/BalanceBeam/v_BalanceBeam_g06_c03.avi\n",
            "./content/UCF101_subset/train/BalanceBeam/v_BalanceBeam_g20_c01.avi\n",
            "./content/UCF101_subset/train/BenchPress\n",
            "./content/UCF101_subset/train/BenchPress/v_BenchPress_g04_c07.avi\n",
            "./content/UCF101_subset/train/BenchPress/v_BenchPress_g18_c03.avi\n",
            "./content/UCF101_subset/train/BenchPress/UCF101\n",
            "./content/UCF101_subset/train/BenchPress/v_BenchPress_g22_c01.avi\n",
            "./content/UCF101_subset/train/BenchPress/v_BenchPress_g09_c04.avi\n",
            "./content/UCF101_subset/train/BenchPress/v_BenchPress_g08_c07.avi\n",
            "./content/UCF101_subset/train/BenchPress/v_BenchPress_g03_c02.avi\n",
            "./content/UCF101_subset/train/BenchPress/v_BenchPress_g13_c07.avi\n",
            "./content/UCF101_subset/train/BenchPress/v_BenchPress_g08_c01.avi\n",
            "./content/UCF101_subset/train/BenchPress/v_BenchPress_g21_c01.avi\n",
            "./content/UCF101_subset/train/BenchPress/v_BenchPress_g13_c01.avi\n",
            "./content/UCF101_subset/train/BenchPress/v_BenchPress_g22_c07.avi\n",
            "./content/UCF101_subset/train/BenchPress/v_BenchPress_g05_c04.avi\n",
            "./content/UCF101_subset/train/BenchPress/v_BenchPress_g15_c03.avi\n",
            "./content/UCF101_subset/train/BenchPress/v_BenchPress_g04_c01.avi\n",
            "./content/UCF101_subset/train/BenchPress/v_BenchPress_g20_c02.avi\n",
            "./content/UCF101_subset/train/BenchPress/v_BenchPress_g02_c01.avi\n",
            "./content/UCF101_subset/train/BenchPress/v_BenchPress_g25_c04.avi\n",
            "./content/UCF101_subset/train/BenchPress/v_BenchPress_g07_c06.avi\n",
            "./content/UCF101_subset/train/BenchPress/v_BenchPress_g05_c06.avi\n",
            "./content/UCF101_subset/train/BenchPress/v_BenchPress_g19_c06.avi\n",
            "./content/UCF101_subset/train/BenchPress/v_BenchPress_g19_c02.avi\n",
            "./content/UCF101_subset/train/BenchPress/v_BenchPress_g14_c02.avi\n",
            "./content/UCF101_subset/train/BenchPress/v_BenchPress_g16_c05.avi\n",
            "./content/UCF101_subset/train/BenchPress/v_BenchPress_g07_c04.avi\n",
            "./content/UCF101_subset/train/BenchPress/v_BenchPress_g17_c04.avi\n",
            "./content/UCF101_subset/train/BenchPress/v_BenchPress_g22_c05.avi\n",
            "./content/UCF101_subset/train/BenchPress/v_BenchPress_g24_c01.avi\n",
            "./content/UCF101_subset/train/BenchPress/v_BenchPress_g25_c02.avi\n",
            "./content/UCF101_subset/train/BenchPress/v_BenchPress_g10_c01.avi\n",
            "./content/UCF101_subset/train/BenchPress/v_BenchPress_g03_c04.avi\n",
            "./content/UCF101_subset/train/BaseballPitch\n",
            "./content/UCF101_subset/train/BaseballPitch/v_BaseballPitch_g02_c04.avi\n",
            "./content/UCF101_subset/train/BaseballPitch/v_BaseballPitch_g02_c02.avi\n",
            "./content/UCF101_subset/train/BaseballPitch/v_BaseballPitch_g05_c06.avi\n",
            "./content/UCF101_subset/train/BaseballPitch/v_BaseballPitch_g06_c01.avi\n",
            "./content/UCF101_subset/train/BaseballPitch/v_BaseballPitch_g23_c03.avi\n",
            "./content/UCF101_subset/train/BaseballPitch/v_BaseballPitch_g12_c01.avi\n",
            "./content/UCF101_subset/train/BaseballPitch/v_BaseballPitch_g13_c01.avi\n",
            "./content/UCF101_subset/train/BaseballPitch/v_BaseballPitch_g04_c01.avi\n",
            "./content/UCF101_subset/train/BaseballPitch/v_BaseballPitch_g23_c01.avi\n",
            "./content/UCF101_subset/train/BaseballPitch/v_BaseballPitch_g17_c05.avi\n",
            "./content/UCF101_subset/train/BaseballPitch/UCF101\n",
            "./content/UCF101_subset/train/BaseballPitch/v_BaseballPitch_g09_c02.avi\n",
            "./content/UCF101_subset/train/BaseballPitch/v_BaseballPitch_g08_c03.avi\n",
            "./content/UCF101_subset/train/BaseballPitch/v_BaseballPitch_g16_c03.avi\n",
            "./content/UCF101_subset/train/BaseballPitch/v_BaseballPitch_g03_c04.avi\n",
            "./content/UCF101_subset/train/BaseballPitch/v_BaseballPitch_g21_c02.avi\n",
            "./content/UCF101_subset/train/BaseballPitch/v_BaseballPitch_g05_c02.avi\n",
            "./content/UCF101_subset/train/BaseballPitch/v_BaseballPitch_g13_c07.avi\n",
            "./content/UCF101_subset/train/BaseballPitch/v_BaseballPitch_g20_c04.avi\n",
            "./content/UCF101_subset/train/BaseballPitch/v_BaseballPitch_g08_c01.avi\n",
            "./content/UCF101_subset/train/BaseballPitch/v_BaseballPitch_g22_c06.avi\n",
            "./content/UCF101_subset/train/BaseballPitch/v_BaseballPitch_g18_c06.avi\n",
            "./content/UCF101_subset/train/BaseballPitch/v_BaseballPitch_g03_c02.avi\n",
            "./content/UCF101_subset/train/BaseballPitch/v_BaseballPitch_g17_c01.avi\n",
            "./content/UCF101_subset/train/BaseballPitch/v_BaseballPitch_g22_c04.avi\n",
            "./content/UCF101_subset/train/BaseballPitch/v_BaseballPitch_g06_c05.avi\n",
            "./content/UCF101_subset/train/BaseballPitch/v_BaseballPitch_g20_c02.avi\n",
            "./content/UCF101_subset/train/BaseballPitch/v_BaseballPitch_g08_c05.avi\n",
            "./content/UCF101_subset/train/BaseballPitch/v_BaseballPitch_g14_c04.avi\n",
            "./content/UCF101_subset/train/BaseballPitch/v_BaseballPitch_g19_c03.avi\n",
            "./content/UCF101_subset/train/BaseballPitch/v_BaseballPitch_g12_c03.avi\n",
            "./content/UCF101_subset/train/BasketballDunk\n",
            "./content/UCF101_subset/train/BasketballDunk/v_BasketballDunk_g05_c03.avi\n",
            "./content/UCF101_subset/train/BasketballDunk/v_BasketballDunk_g07_c05.avi\n",
            "./content/UCF101_subset/train/BasketballDunk/v_BasketballDunk_g14_c04.avi\n",
            "./content/UCF101_subset/train/BasketballDunk/v_BasketballDunk_g03_c05.avi\n",
            "./content/UCF101_subset/train/BasketballDunk/v_BasketballDunk_g12_c01.avi\n",
            "./content/UCF101_subset/train/BasketballDunk/v_BasketballDunk_g01_c06.avi\n",
            "./content/UCF101_subset/train/BasketballDunk/v_BasketballDunk_g15_c01.avi\n",
            "./content/UCF101_subset/train/BasketballDunk/UCF101\n",
            "./content/UCF101_subset/train/BasketballDunk/v_BasketballDunk_g23_c03.avi\n",
            "./content/UCF101_subset/train/BasketballDunk/v_BasketballDunk_g05_c01.avi\n",
            "./content/UCF101_subset/train/BasketballDunk/v_BasketballDunk_g01_c04.avi\n",
            "./content/UCF101_subset/train/BasketballDunk/v_BasketballDunk_g03_c01.avi\n",
            "./content/UCF101_subset/train/BasketballDunk/v_BasketballDunk_g13_c04.avi\n",
            "./content/UCF101_subset/train/BasketballDunk/v_BasketballDunk_g01_c02.avi\n",
            "./content/UCF101_subset/train/BasketballDunk/v_BasketballDunk_g12_c03.avi\n",
            "./content/UCF101_subset/train/BasketballDunk/v_BasketballDunk_g12_c05.avi\n",
            "./content/UCF101_subset/train/BasketballDunk/v_BasketballDunk_g10_c05.avi\n",
            "./content/UCF101_subset/train/BasketballDunk/v_BasketballDunk_g10_c01.avi\n",
            "./content/UCF101_subset/train/BasketballDunk/v_BasketballDunk_g06_c03.avi\n",
            "./content/UCF101_subset/train/BasketballDunk/v_BasketballDunk_g02_c03.avi\n",
            "./content/UCF101_subset/train/BasketballDunk/v_BasketballDunk_g17_c04.avi\n",
            "./content/UCF101_subset/train/BasketballDunk/v_BasketballDunk_g07_c01.avi\n",
            "./content/UCF101_subset/train/BasketballDunk/v_BasketballDunk_g15_c07.avi\n",
            "./content/UCF101_subset/train/BasketballDunk/v_BasketballDunk_g15_c05.avi\n",
            "./content/UCF101_subset/train/BasketballDunk/v_BasketballDunk_g21_c01.avi\n",
            "./content/UCF101_subset/train/BasketballDunk/v_BasketballDunk_g20_c03.avi\n",
            "./content/UCF101_subset/train/BasketballDunk/v_BasketballDunk_g06_c01.avi\n",
            "./content/UCF101_subset/train/BasketballDunk/v_BasketballDunk_g11_c02.avi\n",
            "./content/UCF101_subset/train/BasketballDunk/v_BasketballDunk_g20_c01.avi\n",
            "./content/UCF101_subset/train/BasketballDunk/v_BasketballDunk_g09_c04.avi\n",
            "./content/UCF101_subset/train/BasketballDunk/v_BasketballDunk_g14_c02.avi\n",
            "./content/UCF101_subset/train/BandMarching\n",
            "./content/UCF101_subset/train/BandMarching/v_BandMarching_g15_c07.avi\n",
            "./content/UCF101_subset/train/BandMarching/v_BandMarching_g08_c06.avi\n",
            "./content/UCF101_subset/train/BandMarching/v_BandMarching_g17_c03.avi\n",
            "./content/UCF101_subset/train/BandMarching/v_BandMarching_g16_c02.avi\n",
            "./content/UCF101_subset/train/BandMarching/v_BandMarching_g14_c05.avi\n",
            "./content/UCF101_subset/train/BandMarching/v_BandMarching_g11_c07.avi\n",
            "./content/UCF101_subset/train/BandMarching/v_BandMarching_g18_c05.avi\n",
            "./content/UCF101_subset/train/BandMarching/UCF101\n",
            "./content/UCF101_subset/train/BandMarching/v_BandMarching_g19_c05.avi\n",
            "./content/UCF101_subset/train/BandMarching/v_BandMarching_g17_c01.avi\n",
            "./content/UCF101_subset/train/BandMarching/v_BandMarching_g19_c07.avi\n",
            "./content/UCF101_subset/train/BandMarching/v_BandMarching_g10_c04.avi\n",
            "./content/UCF101_subset/train/BandMarching/v_BandMarching_g12_c06.avi\n",
            "./content/UCF101_subset/train/BandMarching/v_BandMarching_g21_c06.avi\n",
            "./content/UCF101_subset/train/BandMarching/v_BandMarching_g08_c04.avi\n",
            "./content/UCF101_subset/train/BandMarching/v_BandMarching_g07_c07.avi\n",
            "./content/UCF101_subset/train/BandMarching/v_BandMarching_g15_c05.avi\n",
            "./content/UCF101_subset/train/BandMarching/v_BandMarching_g25_c07.avi\n",
            "./content/UCF101_subset/train/BandMarching/v_BandMarching_g11_c03.avi\n",
            "./content/UCF101_subset/train/BandMarching/v_BandMarching_g24_c05.avi\n",
            "./content/UCF101_subset/train/BandMarching/v_BandMarching_g02_c04.avi\n",
            "./content/UCF101_subset/train/BandMarching/v_BandMarching_g25_c05.avi\n",
            "./content/UCF101_subset/train/BandMarching/v_BandMarching_g16_c04.avi\n",
            "./content/UCF101_subset/train/BandMarching/v_BandMarching_g02_c06.avi\n",
            "./content/UCF101_subset/train/BandMarching/v_BandMarching_g23_c01.avi\n",
            "./content/UCF101_subset/train/BandMarching/v_BandMarching_g04_c02.avi\n",
            "./content/UCF101_subset/train/BandMarching/v_BandMarching_g11_c05.avi\n",
            "./content/UCF101_subset/train/BandMarching/v_BandMarching_g06_c01.avi\n",
            "./content/UCF101_subset/train/BandMarching/v_BandMarching_g05_c02.avi\n",
            "./content/UCF101_subset/train/BandMarching/v_BandMarching_g23_c05.avi\n",
            "./content/UCF101_subset/train/BandMarching/v_BandMarching_g19_c01.avi\n",
            "./content/UCF101_subset/train/Basketball\n",
            "./content/UCF101_subset/train/Basketball/v_Basketball_g13_c02.avi\n",
            "./content/UCF101_subset/train/Basketball/v_Basketball_g23_c06.avi\n",
            "./content/UCF101_subset/train/Basketball/v_Basketball_g22_c05.avi\n",
            "./content/UCF101_subset/train/Basketball/v_Basketball_g11_c04.avi\n",
            "./content/UCF101_subset/train/Basketball/v_Basketball_g10_c03.avi\n",
            "./content/UCF101_subset/train/Basketball/v_Basketball_g20_c06.avi\n",
            "./content/UCF101_subset/train/Basketball/v_Basketball_g23_c02.avi\n",
            "./content/UCF101_subset/train/Basketball/UCF101\n",
            "./content/UCF101_subset/train/Basketball/v_Basketball_g08_c04.avi\n",
            "./content/UCF101_subset/train/Basketball/v_Basketball_g13_c04.avi\n",
            "./content/UCF101_subset/train/Basketball/v_Basketball_g16_c02.avi\n",
            "./content/UCF101_subset/train/Basketball/v_Basketball_g25_c04.avi\n",
            "./content/UCF101_subset/train/Basketball/v_Basketball_g17_c02.avi\n",
            "./content/UCF101_subset/train/Basketball/v_Basketball_g03_c04.avi\n",
            "./content/UCF101_subset/train/Basketball/v_Basketball_g10_c01.avi\n",
            "./content/UCF101_subset/train/Basketball/v_Basketball_g07_c02.avi\n",
            "./content/UCF101_subset/train/Basketball/v_Basketball_g09_c02.avi\n",
            "./content/UCF101_subset/train/Basketball/v_Basketball_g12_c03.avi\n",
            "./content/UCF101_subset/train/Basketball/v_Basketball_g12_c05.avi\n",
            "./content/UCF101_subset/train/Basketball/v_Basketball_g02_c06.avi\n",
            "./content/UCF101_subset/train/Basketball/v_Basketball_g14_c02.avi\n",
            "./content/UCF101_subset/train/Basketball/v_Basketball_g01_c05.avi\n",
            "./content/UCF101_subset/train/Basketball/v_Basketball_g25_c02.avi\n",
            "./content/UCF101_subset/train/Basketball/v_Basketball_g20_c02.avi\n",
            "./content/UCF101_subset/train/Basketball/v_Basketball_g15_c01.avi\n",
            "./content/UCF101_subset/train/Basketball/v_Basketball_g16_c04.avi\n",
            "./content/UCF101_subset/train/Basketball/v_Basketball_g23_c04.avi\n",
            "./content/UCF101_subset/train/Basketball/v_Basketball_g11_c02.avi\n",
            "./content/UCF101_subset/train/Basketball/v_Basketball_g12_c01.avi\n",
            "./content/UCF101_subset/train/Basketball/v_Basketball_g09_c04.avi\n",
            "./content/UCF101_subset/train/Basketball/v_Basketball_g01_c01.avi\n",
            "./content/UCF101_subset/val\n",
            "./content/UCF101_subset/val/Archery\n",
            "./content/UCF101_subset/val/Archery/v_Archery_g14_c02.avi\n",
            "./content/UCF101_subset/val/Archery/v_Archery_g13_c05.avi\n",
            "./content/UCF101_subset/val/Archery/UCF101\n",
            "./content/UCF101_subset/val/Archery/v_Archery_g21_c02.avi\n",
            "./content/UCF101_subset/val/Archery/v_Archery_g23_c01.avi\n",
            "./content/UCF101_subset/val/Archery/v_Archery_g22_c04.avi\n",
            "./content/UCF101_subset/val/Archery/v_Archery_g12_c03.avi\n",
            "./content/UCF101_subset/val/Archery/v_Archery_g24_c06.avi\n",
            "./content/UCF101_subset/val/Archery/v_Archery_g20_c01.avi\n",
            "./content/UCF101_subset/val/Archery/v_Archery_g01_c04.avi\n",
            "./content/UCF101_subset/val/Archery/v_Archery_g02_c01.avi\n",
            "./content/UCF101_subset/val/ApplyEyeMakeup\n",
            "./content/UCF101_subset/val/ApplyEyeMakeup/v_ApplyEyeMakeup_g03_c01.avi\n",
            "./content/UCF101_subset/val/ApplyEyeMakeup/v_ApplyEyeMakeup_g23_c02.avi\n",
            "./content/UCF101_subset/val/ApplyEyeMakeup/v_ApplyEyeMakeup_g07_c02.avi\n",
            "./content/UCF101_subset/val/ApplyEyeMakeup/UCF101\n",
            "./content/UCF101_subset/val/ApplyEyeMakeup/v_ApplyEyeMakeup_g11_c02.avi\n",
            "./content/UCF101_subset/val/ApplyEyeMakeup/v_ApplyEyeMakeup_g10_c01.avi\n",
            "./content/UCF101_subset/val/ApplyEyeMakeup/v_ApplyEyeMakeup_g24_c02.avi\n",
            "./content/UCF101_subset/val/ApplyEyeMakeup/v_ApplyEyeMakeup_g10_c05.avi\n",
            "./content/UCF101_subset/val/ApplyEyeMakeup/v_ApplyEyeMakeup_g25_c03.avi\n",
            "./content/UCF101_subset/val/ApplyEyeMakeup/v_ApplyEyeMakeup_g12_c03.avi\n",
            "./content/UCF101_subset/val/ApplyEyeMakeup/v_ApplyEyeMakeup_g20_c02.avi\n",
            "./content/UCF101_subset/val/BabyCrawling\n",
            "./content/UCF101_subset/val/BabyCrawling/v_BabyCrawling_g11_c03.avi\n",
            "./content/UCF101_subset/val/BabyCrawling/v_BabyCrawling_g16_c01.avi\n",
            "./content/UCF101_subset/val/BabyCrawling/v_BabyCrawling_g08_c02.avi\n",
            "./content/UCF101_subset/val/BabyCrawling/UCF101\n",
            "./content/UCF101_subset/val/BabyCrawling/v_BabyCrawling_g07_c04.avi\n",
            "./content/UCF101_subset/val/BabyCrawling/v_BabyCrawling_g09_c06.avi\n",
            "./content/UCF101_subset/val/BabyCrawling/v_BabyCrawling_g06_c04.avi\n",
            "./content/UCF101_subset/val/BabyCrawling/v_BabyCrawling_g20_c07.avi\n",
            "./content/UCF101_subset/val/BabyCrawling/v_BabyCrawling_g24_c03.avi\n",
            "./content/UCF101_subset/val/BabyCrawling/v_BabyCrawling_g04_c03.avi\n",
            "./content/UCF101_subset/val/BabyCrawling/v_BabyCrawling_g13_c03.avi\n",
            "./content/UCF101_subset/val/ApplyLipstick\n",
            "./content/UCF101_subset/val/ApplyLipstick/v_ApplyLipstick_g01_c04.avi\n",
            "./content/UCF101_subset/val/ApplyLipstick/v_ApplyLipstick_g21_c01.avi\n",
            "./content/UCF101_subset/val/ApplyLipstick/UCF101\n",
            "./content/UCF101_subset/val/ApplyLipstick/v_ApplyLipstick_g15_c05.avi\n",
            "./content/UCF101_subset/val/ApplyLipstick/v_ApplyLipstick_g17_c01.avi\n",
            "./content/UCF101_subset/val/ApplyLipstick/v_ApplyLipstick_g24_c03.avi\n",
            "./content/UCF101_subset/val/ApplyLipstick/v_ApplyLipstick_g07_c04.avi\n",
            "./content/UCF101_subset/val/ApplyLipstick/v_ApplyLipstick_g25_c04.avi\n",
            "./content/UCF101_subset/val/ApplyLipstick/v_ApplyLipstick_g19_c04.avi\n",
            "./content/UCF101_subset/val/ApplyLipstick/v_ApplyLipstick_g15_c01.avi\n",
            "./content/UCF101_subset/val/ApplyLipstick/v_ApplyLipstick_g05_c02.avi\n",
            "./content/UCF101_subset/val/BalanceBeam\n",
            "./content/UCF101_subset/val/BalanceBeam/v_BalanceBeam_g06_c01.avi\n",
            "./content/UCF101_subset/val/BalanceBeam/v_BalanceBeam_g22_c02.avi\n",
            "./content/UCF101_subset/val/BalanceBeam/UCF101\n",
            "./content/UCF101_subset/val/BalanceBeam/v_BalanceBeam_g14_c01.avi\n",
            "./content/UCF101_subset/val/BalanceBeam/v_BalanceBeam_g14_c03.avi\n",
            "./content/UCF101_subset/val/BalanceBeam/v_BalanceBeam_g17_c05.avi\n",
            "./content/UCF101_subset/val/BalanceBeam/v_BalanceBeam_g08_c04.avi\n",
            "./content/UCF101_subset/val/BalanceBeam/v_BalanceBeam_g21_c03.avi\n",
            "./content/UCF101_subset/val/BalanceBeam/v_BalanceBeam_g18_c03.avi\n",
            "./content/UCF101_subset/val/BalanceBeam/v_BalanceBeam_g24_c03.avi\n",
            "./content/UCF101_subset/val/BalanceBeam/v_BalanceBeam_g20_c03.avi\n",
            "./content/UCF101_subset/val/BenchPress\n",
            "./content/UCF101_subset/val/BenchPress/v_BenchPress_g01_c03.avi\n",
            "./content/UCF101_subset/val/BenchPress/v_BenchPress_g02_c05.avi\n",
            "./content/UCF101_subset/val/BenchPress/UCF101\n",
            "./content/UCF101_subset/val/BenchPress/v_BenchPress_g12_c06.avi\n",
            "./content/UCF101_subset/val/BenchPress/v_BenchPress_g22_c03.avi\n",
            "./content/UCF101_subset/val/BenchPress/v_BenchPress_g01_c05.avi\n",
            "./content/UCF101_subset/val/BenchPress/v_BenchPress_g07_c02.avi\n",
            "./content/UCF101_subset/val/BenchPress/v_BenchPress_g02_c07.avi\n",
            "./content/UCF101_subset/val/BenchPress/v_BenchPress_g03_c06.avi\n",
            "./content/UCF101_subset/val/BenchPress/v_BenchPress_g17_c02.avi\n",
            "./content/UCF101_subset/val/BenchPress/v_BenchPress_g20_c04.avi\n",
            "./content/UCF101_subset/val/BaseballPitch\n",
            "./content/UCF101_subset/val/BaseballPitch/v_BaseballPitch_g08_c07.avi\n",
            "./content/UCF101_subset/val/BaseballPitch/v_BaseballPitch_g25_c03.avi\n",
            "./content/UCF101_subset/val/BaseballPitch/v_BaseballPitch_g05_c04.avi\n",
            "./content/UCF101_subset/val/BaseballPitch/UCF101\n",
            "./content/UCF101_subset/val/BaseballPitch/v_BaseballPitch_g10_c03.avi\n",
            "./content/UCF101_subset/val/BaseballPitch/v_BaseballPitch_g24_c02.avi\n",
            "./content/UCF101_subset/val/BaseballPitch/v_BaseballPitch_g11_c02.avi\n",
            "./content/UCF101_subset/val/BaseballPitch/v_BaseballPitch_g04_c05.avi\n",
            "./content/UCF101_subset/val/BaseballPitch/v_BaseballPitch_g13_c03.avi\n",
            "./content/UCF101_subset/val/BaseballPitch/v_BaseballPitch_g16_c05.avi\n",
            "./content/UCF101_subset/val/BaseballPitch/v_BaseballPitch_g24_c04.avi\n",
            "./content/UCF101_subset/val/BasketballDunk\n",
            "./content/UCF101_subset/val/BasketballDunk/v_BasketballDunk_g10_c03.avi\n",
            "./content/UCF101_subset/val/BasketballDunk/v_BasketballDunk_g18_c01.avi\n",
            "./content/UCF101_subset/val/BasketballDunk/v_BasketballDunk_g16_c02.avi\n",
            "./content/UCF101_subset/val/BasketballDunk/UCF101\n",
            "./content/UCF101_subset/val/BasketballDunk/v_BasketballDunk_g24_c04.avi\n",
            "./content/UCF101_subset/val/BasketballDunk/v_BasketballDunk_g16_c04.avi\n",
            "./content/UCF101_subset/val/BasketballDunk/v_BasketballDunk_g16_c06.avi\n",
            "./content/UCF101_subset/val/BasketballDunk/v_BasketballDunk_g15_c03.avi\n",
            "./content/UCF101_subset/val/BasketballDunk/v_BasketballDunk_g13_c02.avi\n",
            "./content/UCF101_subset/val/BasketballDunk/v_BasketballDunk_g18_c03.avi\n",
            "./content/UCF101_subset/val/BasketballDunk/v_BasketballDunk_g04_c03.avi\n",
            "./content/UCF101_subset/val/BandMarching\n",
            "./content/UCF101_subset/val/BandMarching/v_BandMarching_g04_c04.avi\n",
            "./content/UCF101_subset/val/BandMarching/UCF101\n",
            "./content/UCF101_subset/val/BandMarching/v_BandMarching_g15_c03.avi\n",
            "./content/UCF101_subset/val/BandMarching/v_BandMarching_g03_c01.avi\n",
            "./content/UCF101_subset/val/BandMarching/v_BandMarching_g01_c03.avi\n",
            "./content/UCF101_subset/val/BandMarching/v_BandMarching_g12_c04.avi\n",
            "./content/UCF101_subset/val/BandMarching/v_BandMarching_g13_c02.avi\n",
            "./content/UCF101_subset/val/BandMarching/v_BandMarching_g03_c03.avi\n",
            "./content/UCF101_subset/val/BandMarching/v_BandMarching_g02_c02.avi\n",
            "./content/UCF101_subset/val/BandMarching/v_BandMarching_g24_c03.avi\n",
            "./content/UCF101_subset/val/BandMarching/v_BandMarching_g20_c04.avi\n",
            "./content/UCF101_subset/val/Basketball\n",
            "./content/UCF101_subset/val/Basketball/v_Basketball_g25_c06.avi\n",
            "./content/UCF101_subset/val/Basketball/v_Basketball_g10_c05.avi\n",
            "./content/UCF101_subset/val/Basketball/v_Basketball_g03_c02.avi\n",
            "./content/UCF101_subset/val/Basketball/UCF101\n",
            "./content/UCF101_subset/val/Basketball/v_Basketball_g01_c03.avi\n",
            "./content/UCF101_subset/val/Basketball/v_Basketball_g20_c04.avi\n",
            "./content/UCF101_subset/val/Basketball/v_Basketball_g18_c02.avi\n",
            "./content/UCF101_subset/val/Basketball/v_Basketball_g05_c04.avi\n",
            "./content/UCF101_subset/val/Basketball/v_Basketball_g21_c01.avi\n",
            "./content/UCF101_subset/val/Basketball/v_Basketball_g24_c04.avi\n",
            "./content/UCF101_subset/val/Basketball/v_Basketball_g21_c03.avi\n",
            "./content/UCF101_subset/test\n",
            "./content/UCF101_subset/test/Archery\n",
            "./content/UCF101_subset/test/Archery/v_Archery_g09_c02.avi\n",
            "./content/UCF101_subset/test/Archery/v_Archery_g02_c07.avi\n",
            "./content/UCF101_subset/test/Archery/v_Archery_g10_c05.avi\n",
            "./content/UCF101_subset/test/Archery/v_Archery_g07_c03.avi\n",
            "./content/UCF101_subset/test/Archery/v_Archery_g08_c03.avi\n",
            "./content/UCF101_subset/test/Archery/v_Archery_g05_c04.avi\n",
            "./content/UCF101_subset/test/Archery/v_Archery_g05_c02.avi\n",
            "./content/UCF101_subset/test/Archery/UCF101\n",
            "./content/UCF101_subset/test/Archery/v_Archery_g23_c07.avi\n",
            "./content/UCF101_subset/test/Archery/v_Archery_g16_c03.avi\n",
            "./content/UCF101_subset/test/Archery/v_Archery_g17_c04.avi\n",
            "./content/UCF101_subset/test/ApplyEyeMakeup\n",
            "./content/UCF101_subset/test/ApplyEyeMakeup/v_ApplyEyeMakeup_g06_c01.avi\n",
            "./content/UCF101_subset/test/ApplyEyeMakeup/v_ApplyEyeMakeup_g23_c04.avi\n",
            "./content/UCF101_subset/test/ApplyEyeMakeup/v_ApplyEyeMakeup_g19_c02.avi\n",
            "./content/UCF101_subset/test/ApplyEyeMakeup/UCF101\n",
            "./content/UCF101_subset/test/ApplyEyeMakeup/v_ApplyEyeMakeup_g15_c02.avi\n",
            "./content/UCF101_subset/test/ApplyEyeMakeup/v_ApplyEyeMakeup_g15_c06.avi\n",
            "./content/UCF101_subset/test/ApplyEyeMakeup/v_ApplyEyeMakeup_g07_c06.avi\n",
            "./content/UCF101_subset/test/ApplyEyeMakeup/v_ApplyEyeMakeup_g01_c03.avi\n",
            "./content/UCF101_subset/test/ApplyEyeMakeup/v_ApplyEyeMakeup_g11_c04.avi\n",
            "./content/UCF101_subset/test/ApplyEyeMakeup/v_ApplyEyeMakeup_g04_c07.avi\n",
            "./content/UCF101_subset/test/ApplyEyeMakeup/v_ApplyEyeMakeup_g12_c05.avi\n",
            "./content/UCF101_subset/test/BabyCrawling\n",
            "./content/UCF101_subset/test/BabyCrawling/v_BabyCrawling_g15_c01.avi\n",
            "./content/UCF101_subset/test/BabyCrawling/v_BabyCrawling_g08_c04.avi\n",
            "./content/UCF101_subset/test/BabyCrawling/v_BabyCrawling_g22_c04.avi\n",
            "./content/UCF101_subset/test/BabyCrawling/v_BabyCrawling_g05_c03.avi\n",
            "./content/UCF101_subset/test/BabyCrawling/UCF101\n",
            "./content/UCF101_subset/test/BabyCrawling/v_BabyCrawling_g01_c03.avi\n",
            "./content/UCF101_subset/test/BabyCrawling/v_BabyCrawling_g17_c03.avi\n",
            "./content/UCF101_subset/test/BabyCrawling/v_BabyCrawling_g06_c06.avi\n",
            "./content/UCF101_subset/test/BabyCrawling/v_BabyCrawling_g11_c01.avi\n",
            "./content/UCF101_subset/test/BabyCrawling/v_BabyCrawling_g04_c01.avi\n",
            "./content/UCF101_subset/test/BabyCrawling/v_BabyCrawling_g18_c06.avi\n",
            "./content/UCF101_subset/test/ApplyLipstick\n",
            "./content/UCF101_subset/test/ApplyLipstick/v_ApplyLipstick_g20_c04.avi\n",
            "./content/UCF101_subset/test/ApplyLipstick/v_ApplyLipstick_g25_c02.avi\n",
            "./content/UCF101_subset/test/ApplyLipstick/v_ApplyLipstick_g18_c04.avi\n",
            "./content/UCF101_subset/test/ApplyLipstick/v_ApplyLipstick_g10_c04.avi\n",
            "./content/UCF101_subset/test/ApplyLipstick/v_ApplyLipstick_g01_c02.avi\n",
            "./content/UCF101_subset/test/ApplyLipstick/v_ApplyLipstick_g22_c02.avi\n",
            "./content/UCF101_subset/test/ApplyLipstick/UCF101\n",
            "./content/UCF101_subset/test/ApplyLipstick/v_ApplyLipstick_g09_c04.avi\n",
            "./content/UCF101_subset/test/ApplyLipstick/v_ApplyLipstick_g15_c03.avi\n",
            "./content/UCF101_subset/test/ApplyLipstick/v_ApplyLipstick_g08_c02.avi\n",
            "./content/UCF101_subset/test/ApplyLipstick/v_ApplyLipstick_g17_c03.avi\n",
            "./content/UCF101_subset/test/BalanceBeam\n",
            "./content/UCF101_subset/test/BalanceBeam/v_BalanceBeam_g12_c04.avi\n",
            "./content/UCF101_subset/test/BalanceBeam/v_BalanceBeam_g03_c03.avi\n",
            "./content/UCF101_subset/test/BalanceBeam/v_BalanceBeam_g01_c03.avi\n",
            "./content/UCF101_subset/test/BalanceBeam/v_BalanceBeam_g01_c01.avi\n",
            "./content/UCF101_subset/test/BalanceBeam/UCF101\n",
            "./content/UCF101_subset/test/BalanceBeam/v_BalanceBeam_g23_c02.avi\n",
            "./content/UCF101_subset/test/BalanceBeam/v_BalanceBeam_g02_c01.avi\n",
            "./content/UCF101_subset/test/BalanceBeam/v_BalanceBeam_g10_c02.avi\n",
            "./content/UCF101_subset/test/BalanceBeam/v_BalanceBeam_g06_c05.avi\n",
            "./content/UCF101_subset/test/BalanceBeam/v_BalanceBeam_g22_c04.avi\n",
            "./content/UCF101_subset/test/BalanceBeam/v_BalanceBeam_g08_c02.avi\n",
            "./content/UCF101_subset/test/BenchPress\n",
            "./content/UCF101_subset/test/BenchPress/v_BenchPress_g17_c06.avi\n",
            "./content/UCF101_subset/test/BenchPress/v_BenchPress_g15_c05.avi\n",
            "./content/UCF101_subset/test/BenchPress/v_BenchPress_g12_c02.avi\n",
            "./content/UCF101_subset/test/BenchPress/UCF101\n",
            "./content/UCF101_subset/test/BenchPress/v_BenchPress_g02_c03.avi\n",
            "./content/UCF101_subset/test/BenchPress/v_BenchPress_g13_c05.avi\n",
            "./content/UCF101_subset/test/BenchPress/v_BenchPress_g11_c01.avi\n",
            "./content/UCF101_subset/test/BenchPress/v_BenchPress_g09_c02.avi\n",
            "./content/UCF101_subset/test/BenchPress/v_BenchPress_g14_c04.avi\n",
            "./content/UCF101_subset/test/BenchPress/v_BenchPress_g18_c01.avi\n",
            "./content/UCF101_subset/test/BenchPress/v_BenchPress_g24_c05.avi\n",
            "./content/UCF101_subset/test/BaseballPitch\n",
            "./content/UCF101_subset/test/BaseballPitch/v_BaseballPitch_g10_c05.avi\n",
            "./content/UCF101_subset/test/BaseballPitch/v_BaseballPitch_g07_c06.avi\n",
            "./content/UCF101_subset/test/BaseballPitch/UCF101\n",
            "./content/UCF101_subset/test/BaseballPitch/v_BaseballPitch_g17_c07.avi\n",
            "./content/UCF101_subset/test/BaseballPitch/v_BaseballPitch_g25_c01.avi\n",
            "./content/UCF101_subset/test/BaseballPitch/v_BaseballPitch_g06_c07.avi\n",
            "./content/UCF101_subset/test/BaseballPitch/v_BaseballPitch_g19_c01.avi\n",
            "./content/UCF101_subset/test/BaseballPitch/v_BaseballPitch_g15_c06.avi\n",
            "./content/UCF101_subset/test/BaseballPitch/v_BaseballPitch_g03_c06.avi\n",
            "./content/UCF101_subset/test/BaseballPitch/v_BaseballPitch_g07_c04.avi\n",
            "./content/UCF101_subset/test/BaseballPitch/v_BaseballPitch_g01_c04.avi\n",
            "./content/UCF101_subset/test/BasketballDunk\n",
            "./content/UCF101_subset/test/BasketballDunk/v_BasketballDunk_g08_c05.avi\n",
            "./content/UCF101_subset/test/BasketballDunk/v_BasketballDunk_g05_c05.avi\n",
            "./content/UCF101_subset/test/BasketballDunk/v_BasketballDunk_g22_c03.avi\n",
            "./content/UCF101_subset/test/BasketballDunk/UCF101\n",
            "./content/UCF101_subset/test/BasketballDunk/v_BasketballDunk_g21_c03.avi\n",
            "./content/UCF101_subset/test/BasketballDunk/v_BasketballDunk_g08_c03.avi\n",
            "./content/UCF101_subset/test/BasketballDunk/v_BasketballDunk_g23_c05.avi\n",
            "./content/UCF101_subset/test/BasketballDunk/v_BasketballDunk_g19_c01.avi\n",
            "./content/UCF101_subset/test/BasketballDunk/v_BasketballDunk_g11_c04.avi\n",
            "./content/UCF101_subset/test/BasketballDunk/v_BasketballDunk_g25_c01.avi\n",
            "./content/UCF101_subset/test/BasketballDunk/v_BasketballDunk_g18_c05.avi\n",
            "./content/UCF101_subset/test/BandMarching\n",
            "./content/UCF101_subset/test/BandMarching/v_BandMarching_g13_c04.avi\n",
            "./content/UCF101_subset/test/BandMarching/UCF101\n",
            "./content/UCF101_subset/test/BandMarching/v_BandMarching_g24_c01.avi\n",
            "./content/UCF101_subset/test/BandMarching/v_BandMarching_g01_c05.avi\n",
            "./content/UCF101_subset/test/BandMarching/v_BandMarching_g05_c04.avi\n",
            "./content/UCF101_subset/test/BandMarching/v_BandMarching_g11_c01.avi\n",
            "./content/UCF101_subset/test/BandMarching/v_BandMarching_g15_c01.avi\n",
            "./content/UCF101_subset/test/BandMarching/v_BandMarching_g07_c03.avi\n",
            "./content/UCF101_subset/test/BandMarching/v_BandMarching_g09_c05.avi\n",
            "./content/UCF101_subset/test/BandMarching/v_BandMarching_g21_c02.avi\n",
            "./content/UCF101_subset/test/BandMarching/v_BandMarching_g25_c01.avi\n",
            "./content/UCF101_subset/test/Basketball\n",
            "./content/UCF101_subset/test/Basketball/v_Basketball_g19_c01.avi\n",
            "./content/UCF101_subset/test/Basketball/UCF101\n",
            "./content/UCF101_subset/test/Basketball/v_Basketball_g17_c04.avi\n",
            "./content/UCF101_subset/test/Basketball/v_Basketball_g05_c02.avi\n",
            "./content/UCF101_subset/test/Basketball/v_Basketball_g21_c05.avi\n",
            "./content/UCF101_subset/test/Basketball/v_Basketball_g02_c02.avi\n",
            "./content/UCF101_subset/test/Basketball/v_Basketball_g18_c04.avi\n",
            "./content/UCF101_subset/test/Basketball/v_Basketball_g15_c07.avi\n",
            "./content/UCF101_subset/test/Basketball/v_Basketball_g08_c02.avi\n",
            "./content/UCF101_subset/test/Basketball/v_Basketball_g22_c07.avi\n",
            "./content/UCF101_subset/test/Basketball/v_Basketball_g22_c01.avi\n"
          ]
        }
      ]
    },
    {
      "cell_type": "markdown",
      "source": [
        "# PreProcessing Data"
      ],
      "metadata": {
        "id": "Hi6wNoorgZ4S"
      }
    },
    {
      "cell_type": "code",
      "source": [
        "def format_frames(frame,output_size):\n",
        "  #setting frames\n",
        "  #padding and resizing\n",
        "  #output size\n",
        "  frame=tf.image.convert_image_dtype(frame,tf.float32)\n",
        "  frame=tf.image.resize_with_pad(frame,*output_size)\n",
        "  return frame"
      ],
      "metadata": {
        "id": "omRxf8DIgKRY"
      },
      "execution_count": 55,
      "outputs": []
    },
    {
      "cell_type": "markdown",
      "source": [
        "main class"
      ],
      "metadata": {
        "id": "uT9YBcR8hmFo"
      }
    },
    {
      "cell_type": "code",
      "source": [
        "def frames_from_video_file(video_path, n_frames, output_size = (224,224), frame_step = 15):\n",
        "  \"\"\"\n",
        "    Creates frames from each video file present for each category.\n",
        "\n",
        "    Args:\n",
        "      video_path: File path to the video.\n",
        "      n_frames: Number of frames to be created per video file.\n",
        "      output_size: Pixel size of the output frame image.\n",
        "\n",
        "    Return:\n",
        "      An NumPy array of frames in the shape of (n_frames, height, width, channels).\n",
        "  \"\"\"\n",
        "  # Read each video frame by frame\n",
        "  result = []\n",
        "  src = cv2.VideoCapture(str(video_path))\n",
        "\n",
        "  video_length = src.get(cv2.CAP_PROP_FRAME_COUNT)\n",
        "\n",
        "  need_length = 1 + (n_frames - 1) * frame_step\n",
        "\n",
        "  if need_length > video_length:\n",
        "    start = 0\n",
        "  else:\n",
        "    max_start = video_length - need_length\n",
        "    start = random.randint(0, max_start + 1)\n",
        "\n",
        "  src.set(cv2.CAP_PROP_POS_FRAMES, start)\n",
        "  # ret is a boolean indicating whether read was successful, frame is the image itself\n",
        "  ret, frame = src.read()\n",
        "  result.append(format_frames(frame, output_size))\n",
        "\n",
        "  for _ in range(n_frames - 1):\n",
        "    for _ in range(frame_step):\n",
        "      ret, frame = src.read()\n",
        "    if ret:\n",
        "      frame = format_frames(frame, output_size)\n",
        "      result.append(frame)\n",
        "    else:\n",
        "      result.append(np.zeros_like(result[0]))\n",
        "  src.release()\n",
        "  result = np.array(result)[..., [2, 1, 0]]\n",
        "\n",
        "  return result"
      ],
      "metadata": {
        "id": "JKOvLwHlhcn5"
      },
      "execution_count": 56,
      "outputs": []
    },
    {
      "cell_type": "code",
      "source": [
        "!curl -O https://upload.wikimedia.org/wikipedia/commons/8/86/End_of_a_jam.ogv"
      ],
      "metadata": {
        "colab": {
          "base_uri": "https://localhost:8080/"
        },
        "id": "3MrMCgpajPUn",
        "outputId": "20268fd0-f797-458e-eea4-16793086ed9d"
      },
      "execution_count": 57,
      "outputs": [
        {
          "output_type": "stream",
          "name": "stdout",
          "text": [
            "  % Total    % Received % Xferd  Average Speed   Time    Time     Time  Current\n",
            "                                 Dload  Upload   Total   Spent    Left  Speed\n",
            "100 55.0M  100 55.0M    0     0  28.1M      0  0:00:01  0:00:01 --:--:-- 28.1M\n"
          ]
        }
      ]
    },
    {
      "cell_type": "code",
      "source": [
        "video_path = \"End_of_a_jam.ogv\""
      ],
      "metadata": {
        "id": "qteJDrEqivbF"
      },
      "execution_count": 58,
      "outputs": []
    },
    {
      "cell_type": "code",
      "source": [
        "sample_video =frames_from_video_file(video_path,n_frames=10)\n"
      ],
      "metadata": {
        "id": "sPyrxH0_jAFI"
      },
      "execution_count": 59,
      "outputs": []
    },
    {
      "cell_type": "code",
      "source": [
        "sample_video.shape"
      ],
      "metadata": {
        "colab": {
          "base_uri": "https://localhost:8080/"
        },
        "id": "vsH51q6ymFsP",
        "outputId": "7cd8495b-43d8-4ad3-fb2a-eeaba108533a"
      },
      "execution_count": 61,
      "outputs": [
        {
          "output_type": "execute_result",
          "data": {
            "text/plain": [
              "(10, 224, 224, 3)"
            ]
          },
          "metadata": {},
          "execution_count": 61
        }
      ]
    },
    {
      "cell_type": "code",
      "source": [
        "def to_gif(images):\n",
        "  converted_images = np.clip(images * 255, 0, 255).astype(np.uint8)\n",
        "  imageio.mimsave('./animation.gif', converted_images, fps=10)\n",
        "  return embed.embed_file('./animation.gif')"
      ],
      "metadata": {
        "id": "VjDp8PFamdl4"
      },
      "execution_count": 62,
      "outputs": []
    },
    {
      "cell_type": "code",
      "source": [
        "to_gif(sample_video)"
      ],
      "metadata": {
        "colab": {
          "base_uri": "https://localhost:8080/",
          "height": 247
        },
        "id": "fKlfP5hjmkya",
        "outputId": "73036362-ce1d-45c0-ff0b-c4f1fc32f528"
      },
      "execution_count": 64,
      "outputs": [
        {
          "output_type": "execute_result",
          "data": {
            "text/plain": [
              "<IPython.core.display.HTML object>"
            ],
            "text/html": [
              "<img src=\"data:image/gif;base64,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\"/>"
            ]
          },
          "metadata": {},
          "execution_count": 64
        }
      ]
    },
    {
      "cell_type": "markdown",
      "source": [
        "FRame Generator"
      ],
      "metadata": {
        "id": "ZVKpe_IZnBw4"
      }
    },
    {
      "cell_type": "code",
      "source": [
        "class FrameGenerator:\n",
        "  def __init__(self,path,n_frames,training=False):\n",
        "    self.path = path\n",
        "    self.n_frames = n_frames\n",
        "    self.training = training\n",
        "    self.class_names = sorted(set(p.name for p in self.path.iterdir() if p.is_dir()))\n",
        "    self.class_ids_for_name = dict((name, idx) for idx, name in enumerate(self.class_names))\n",
        "\n",
        "  def get_files_and_class_names(self):\n",
        "    video_paths=list(self.path.glob('*/*.avi'))\n",
        "    classes=[p.parent.name for p in video_paths]\n",
        "    return video_paths,classes\n",
        "\n",
        "\n",
        "  def __call__(self):\n",
        "    video_paths, classes = self.get_files_and_class_names()\n",
        "\n",
        "    pairs = list(zip(video_paths, classes))\n",
        "\n",
        "    if self.training:\n",
        "      random.shuffle(pairs)\n",
        "\n",
        "    for path, name in pairs:\n",
        "      video_frames = frames_from_video_file(path, self.n_frames)\n",
        "      label = self.class_ids_for_name[name] # Encode labels\n",
        "      yield video_frames, label"
      ],
      "metadata": {
        "id": "yWlcpOalml3V"
      },
      "execution_count": 65,
      "outputs": []
    },
    {
      "cell_type": "code",
      "source": [
        "from pathlib import Path\n",
        "\n",
        "fg = FrameGenerator(Path('/content/content/UCF101_subset/train'), n_frames=10, training=True)\n"
      ],
      "metadata": {
        "id": "rEH-QfjJo-EQ"
      },
      "execution_count": 73,
      "outputs": []
    },
    {
      "cell_type": "code",
      "source": [
        "frames,label=next(fg())"
      ],
      "metadata": {
        "id": "XfcmnslbqJHJ"
      },
      "execution_count": 75,
      "outputs": []
    },
    {
      "cell_type": "code",
      "source": [
        "print(f\"shape:{frames.shape}\")\n",
        "print(f\"Label:{label}\")"
      ],
      "metadata": {
        "colab": {
          "base_uri": "https://localhost:8080/"
        },
        "id": "0gMHHsfIpZkN",
        "outputId": "351057f6-5aa4-441e-ae3d-e3fcd0ad3ebb"
      },
      "execution_count": 76,
      "outputs": [
        {
          "output_type": "stream",
          "name": "stdout",
          "text": [
            "shape:(10, 224, 224, 3)\n",
            "Label:3\n"
          ]
        }
      ]
    },
    {
      "cell_type": "code",
      "source": [
        "# Create the training set\n",
        "output_signature = (\n",
        "    tf.TensorSpec(shape=(10, 224, 224, 3), dtype=tf.float32),\n",
        "    tf.TensorSpec(shape=(),                  dtype=tf.int32)\n",
        ")\n",
        "fg_train = FrameGenerator(Path('/content/content/UCF101_subset/train'), n_frames=10, training=True)\n",
        "\n",
        "train_ds = tf.data.Dataset.from_generator(fg_train, output_signature=output_signature)\n"
      ],
      "metadata": {
        "id": "o-tY0M6IqHgk"
      },
      "execution_count": 123,
      "outputs": []
    },
    {
      "cell_type": "code",
      "source": [
        "for frames,labels in train_ds.take(10):\n",
        "  print(labels)"
      ],
      "metadata": {
        "colab": {
          "base_uri": "https://localhost:8080/"
        },
        "id": "wLS_p90TqvDd",
        "outputId": "26a73b6b-09ca-4085-d75f-1fdd3cf84496"
      },
      "execution_count": 124,
      "outputs": [
        {
          "output_type": "stream",
          "name": "stdout",
          "text": [
            "tf.Tensor(1, shape=(), dtype=int32)\n",
            "tf.Tensor(4, shape=(), dtype=int32)\n",
            "tf.Tensor(7, shape=(), dtype=int32)\n",
            "tf.Tensor(4, shape=(), dtype=int32)\n",
            "tf.Tensor(8, shape=(), dtype=int32)\n",
            "tf.Tensor(6, shape=(), dtype=int32)\n",
            "tf.Tensor(4, shape=(), dtype=int32)\n",
            "tf.Tensor(2, shape=(), dtype=int32)\n",
            "tf.Tensor(6, shape=(), dtype=int32)\n",
            "tf.Tensor(6, shape=(), dtype=int32)\n"
          ]
        }
      ]
    },
    {
      "cell_type": "code",
      "source": [
        "\n",
        "output_signature = (\n",
        "    tf.TensorSpec(shape=(10, 224, 224, 3), dtype=tf.float32),\n",
        "    tf.TensorSpec(shape=(),                  dtype=tf.int32)\n",
        ")\n",
        "\n",
        "fg_val = FrameGenerator(Path('/content/content/UCF101_subset/val'), n_frames=10, training=False)\n",
        "\n",
        "val_ds = tf.data.Dataset.from_generator(fg_val, output_signature=output_signature)\n"
      ],
      "metadata": {
        "id": "3pMkbg8nq0lm"
      },
      "execution_count": 127,
      "outputs": []
    },
    {
      "cell_type": "code",
      "source": [
        "# Print the shapes of the data\n",
        "train_frames, train_labels = next(iter(train_ds))\n",
        "print(f'Shape of training set of frames: {train_frames.shape}')\n",
        "print(f'Shape of training labels: {train_labels.shape}')\n",
        "\n",
        "val_frames, val_labels = next(iter(val_ds))\n",
        "print(f'Shape of validation set of frames: {val_frames.shape}')\n",
        "print(f'Shape of validation labels: {val_labels.shape}')"
      ],
      "metadata": {
        "colab": {
          "base_uri": "https://localhost:8080/"
        },
        "id": "cEuF1rUysAI4",
        "outputId": "580977d3-1dc2-4b0b-80fd-ac04cabb51dd"
      },
      "execution_count": 128,
      "outputs": [
        {
          "output_type": "stream",
          "name": "stdout",
          "text": [
            "Shape of training set of frames: (10, 224, 224, 3)\n",
            "Shape of training labels: ()\n",
            "Shape of validation set of frames: (10, 224, 224, 3)\n",
            "Shape of validation labels: ()\n"
          ]
        }
      ]
    },
    {
      "cell_type": "markdown",
      "source": [
        "creating batch of the dataset"
      ],
      "metadata": {
        "id": "odcXlGPXs5US"
      }
    },
    {
      "cell_type": "code",
      "source": [
        "train_ds = train_ds.batch(2)\n",
        "val_ds = val_ds.batch(2)\n",
        "\n",
        "train_frames, train_labels = next(iter(train_ds))\n",
        "print(f'Shape of training set of frames: {train_frames.shape}')\n",
        "print(f'Shape of training labels: {train_labels.shape}')\n",
        "\n",
        "val_frames, val_labels = next(iter(val_ds))\n",
        "print(f'Shape of validation set of frames: {val_frames.shape}')\n",
        "print(f'Shape of validation labels: {val_labels.shape}')"
      ],
      "metadata": {
        "colab": {
          "base_uri": "https://localhost:8080/"
        },
        "id": "dyyQiME0sKA0",
        "outputId": "42b18f95-d16a-469f-8be1-31ea86f1ac9f"
      },
      "execution_count": 129,
      "outputs": [
        {
          "output_type": "stream",
          "name": "stdout",
          "text": [
            "Shape of training set of frames: (2, 10, 224, 224, 3)\n",
            "Shape of training labels: (2,)\n",
            "Shape of validation set of frames: (2, 10, 224, 224, 3)\n",
            "Shape of validation labels: (2,)\n"
          ]
        }
      ]
    },
    {
      "cell_type": "code",
      "source": [
        "\n",
        "#Trying transfer learning\n",
        "import tensorflow as tf"
      ],
      "metadata": {
        "id": "sBck2d8VsnwH"
      },
      "execution_count": 130,
      "outputs": []
    },
    {
      "cell_type": "code",
      "source": [
        "# 2) Pull one batch and inspect its contents:\n",
        "for ds, name in [(train_ds, \"TRAIN\"), (val_ds, \"VAL\")]:\n",
        "    batch_v, batch_l = next(iter(ds))\n",
        "    print(f\"\\n{name} batch:\")\n",
        "    print(\"  frames shape:\", batch_v.shape, \" dtype:\", batch_v.dtype)\n",
        "    print(\"  labels shape:\", batch_l.shape, \" dtype:\", batch_l.dtype)\n"
      ],
      "metadata": {
        "colab": {
          "base_uri": "https://localhost:8080/"
        },
        "id": "o4XXjOB6tAX3",
        "outputId": "c937faf7-4513-4b9c-b7a1-1553e8e7c04e"
      },
      "execution_count": 132,
      "outputs": [
        {
          "output_type": "stream",
          "name": "stdout",
          "text": [
            "\n",
            "TRAIN batch:\n",
            "  frames shape: (2, 10, 224, 224, 3)  dtype: <dtype: 'float32'>\n",
            "  labels shape: (2,)  dtype: <dtype: 'int32'>\n",
            "\n",
            "VAL batch:\n",
            "  frames shape: (2, 10, 224, 224, 3)  dtype: <dtype: 'float32'>\n",
            "  labels shape: (2,)  dtype: <dtype: 'int32'>\n"
          ]
        }
      ]
    },
    {
      "cell_type": "markdown",
      "source": [
        "# Transfer Learning"
      ],
      "metadata": {
        "id": "VfcY9FxcxUNy"
      }
    },
    {
      "cell_type": "code",
      "source": [
        "net = tf.keras.applications.EfficientNetB0(include_top = False)\n",
        "net.trainable = False\n",
        "\n",
        "model = tf.keras.Sequential([\n",
        "    tf.keras.layers.Rescaling(scale=255),\n",
        "    tf.keras.layers.TimeDistributed(net),\n",
        "    tf.keras.layers.Dense(10),\n",
        "    tf.keras.layers.GlobalAveragePooling3D()\n",
        "])\n",
        "\n",
        "model.compile(optimizer = 'adam',\n",
        "              loss=tf.keras.losses.SparseCategoricalCrossentropy(from_logits = True),\n",
        "              metrics=['accuracy'])\n",
        "\n",
        "model.fit(train_ds,\n",
        "          epochs = 10,\n",
        "          validation_data = val_ds,\n",
        "          callbacks = tf.keras.callbacks.EarlyStopping(patience = 2, monitor = 'val_loss'))\n"
      ],
      "metadata": {
        "colab": {
          "base_uri": "https://localhost:8080/"
        },
        "id": "WOrT1H6Utl60",
        "outputId": "a39b3ebc-5126-4630-c9db-c935a6848198"
      },
      "execution_count": 133,
      "outputs": [
        {
          "output_type": "stream",
          "name": "stdout",
          "text": [
            "Epoch 1/10\n",
            "    150/Unknown \u001b[1m215s\u001b[0m 273ms/step - accuracy: 0.4856 - loss: 1.6288"
          ]
        },
        {
          "output_type": "stream",
          "name": "stderr",
          "text": [
            "/usr/local/lib/python3.11/dist-packages/keras/src/trainers/epoch_iterator.py:151: UserWarning: Your input ran out of data; interrupting training. Make sure that your dataset or generator can generate at least `steps_per_epoch * epochs` batches. You may need to use the `.repeat()` function when building your dataset.\n",
            "  self._interrupted_warning()\n"
          ]
        },
        {
          "output_type": "stream",
          "name": "stdout",
          "text": [
            "\b\b\b\b\b\b\b\b\b\b\b\b\b\b\b\b\b\b\b\b\b\b\b\b\b\b\b\b\b\b\b\b\b\b\b\b\b\b\b\b\b\b\b\b\b\b\b\b\b\b\b\b\b\b\b\b\b\b\b\b\b\b\b\b\b\r\u001b[1m150/150\u001b[0m \u001b[32m━━━━━━━━━━━━━━━━━━━━\u001b[0m\u001b[37m\u001b[0m \u001b[1m266s\u001b[0m 617ms/step - accuracy: 0.4871 - loss: 1.6254 - val_accuracy: 0.9200 - val_loss: 0.4726\n",
            "Epoch 2/10\n",
            "\u001b[1m150/150\u001b[0m \u001b[32m━━━━━━━━━━━━━━━━━━━━\u001b[0m\u001b[37m\u001b[0m \u001b[1m56s\u001b[0m 376ms/step - accuracy: 0.9656 - loss: 0.3429 - val_accuracy: 0.9800 - val_loss: 0.2588\n",
            "Epoch 3/10\n",
            "\u001b[1m150/150\u001b[0m \u001b[32m━━━━━━━━━━━━━━━━━━━━\u001b[0m\u001b[37m\u001b[0m \u001b[1m54s\u001b[0m 362ms/step - accuracy: 0.9898 - loss: 0.1598 - val_accuracy: 0.9800 - val_loss: 0.1955\n",
            "Epoch 4/10\n",
            "\u001b[1m150/150\u001b[0m \u001b[32m━━━━━━━━━━━━━━━━━━━━\u001b[0m\u001b[37m\u001b[0m \u001b[1m82s\u001b[0m 549ms/step - accuracy: 0.9922 - loss: 0.1037 - val_accuracy: 0.9700 - val_loss: 0.1596\n",
            "Epoch 5/10\n",
            "\u001b[1m150/150\u001b[0m \u001b[32m━━━━━━━━━━━━━━━━━━━━\u001b[0m\u001b[37m\u001b[0m \u001b[1m53s\u001b[0m 354ms/step - accuracy: 0.9949 - loss: 0.0696 - val_accuracy: 0.9500 - val_loss: 0.1491\n",
            "Epoch 6/10\n",
            "\u001b[1m150/150\u001b[0m \u001b[32m━━━━━━━━━━━━━━━━━━━━\u001b[0m\u001b[37m\u001b[0m \u001b[1m82s\u001b[0m 352ms/step - accuracy: 1.0000 - loss: 0.0470 - val_accuracy: 0.9700 - val_loss: 0.1259\n",
            "Epoch 7/10\n",
            "\u001b[1m150/150\u001b[0m \u001b[32m━━━━━━━━━━━━━━━━━━━━\u001b[0m\u001b[37m\u001b[0m \u001b[1m142s\u001b[0m 756ms/step - accuracy: 1.0000 - loss: 0.0400 - val_accuracy: 0.9600 - val_loss: 0.1212\n",
            "Epoch 8/10\n",
            "\u001b[1m150/150\u001b[0m \u001b[32m━━━━━━━━━━━━━━━━━━━━\u001b[0m\u001b[37m\u001b[0m \u001b[1m53s\u001b[0m 356ms/step - accuracy: 1.0000 - loss: 0.0310 - val_accuracy: 0.9600 - val_loss: 0.1109\n",
            "Epoch 9/10\n",
            "\u001b[1m150/150\u001b[0m \u001b[32m━━━━━━━━━━━━━━━━━━━━\u001b[0m\u001b[37m\u001b[0m \u001b[1m53s\u001b[0m 352ms/step - accuracy: 1.0000 - loss: 0.0290 - val_accuracy: 0.9600 - val_loss: 0.1070\n",
            "Epoch 10/10\n",
            "\u001b[1m150/150\u001b[0m \u001b[32m━━━━━━━━━━━━━━━━━━━━\u001b[0m\u001b[37m\u001b[0m \u001b[1m54s\u001b[0m 362ms/step - accuracy: 1.0000 - loss: 0.0189 - val_accuracy: 0.9600 - val_loss: 0.1069\n"
          ]
        },
        {
          "output_type": "execute_result",
          "data": {
            "text/plain": [
              "<keras.src.callbacks.history.History at 0x7b65fcec1b10>"
            ]
          },
          "metadata": {},
          "execution_count": 133
        }
      ]
    },
    {
      "cell_type": "markdown",
      "source": [
        "Testing on a dataset"
      ],
      "metadata": {
        "id": "pP6--f_E1C4O"
      }
    },
    {
      "cell_type": "code",
      "source": [
        "import tensorflow as tf\n",
        "import numpy as np\n",
        "from pathlib import Path\n",
        "\n",
        "# Path to  single test video\n",
        "test_video_path = Path(\"/content/content/UCF101_subset/test/ApplyLipstick/v_ApplyLipstick_g01_c02.avi\")\n",
        "\n",
        "# 1. Extract frames from video\n",
        "frames = frames_from_video_file(test_video_path, n_frames=10)  # shape: (10, 224, 224, 3)\n",
        "\n",
        "# 2. Add a batch dimension: (1, 10, 224, 224, 3)\n",
        "frames = tf.expand_dims(frames, axis=0)\n",
        "\n",
        "# 3. Pass it to your model\n",
        "pred = model(frames)  # shape: (1, num_classes)\n",
        "\n",
        "# 4. Get predicted label\n",
        "pred_label = tf.argmax(pred, axis=-1).numpy()[0]\n",
        "print(\"Predicted class ID:\", pred_label)"
      ],
      "metadata": {
        "colab": {
          "base_uri": "https://localhost:8080/"
        },
        "id": "mWaAicYS1G7x",
        "outputId": "08e2b10b-bf81-4592-c8e0-c0e54dd8b0e7"
      },
      "execution_count": 138,
      "outputs": [
        {
          "output_type": "stream",
          "name": "stdout",
          "text": [
            "Predicted class ID: 1\n"
          ]
        }
      ]
    },
    {
      "cell_type": "code",
      "source": [
        "import tensorflow as tf\n",
        "import numpy as np\n",
        "from pathlib import Path\n",
        "\n",
        "# Path to  single test video\n",
        "test_video_path = Path(\"/content/content/UCF101_subset/test/Archery/v_Archery_g08_c03.avi\")\n",
        "\n",
        "# 1. Extract frames from video\n",
        "frames = frames_from_video_file(test_video_path, n_frames=10)  # shape: (10, 224, 224, 3)\n",
        "\n",
        "# 2. Add a batch dimension: (1, 10, 224, 224, 3)\n",
        "frames = tf.expand_dims(frames, axis=0)\n",
        "\n",
        "# 3. Pass it to your model\n",
        "pred = model(frames)  # shape: (1, num_classes)\n",
        "\n",
        "# 4. Get predicted label\n",
        "pred_label = tf.argmax(pred, axis=-1).numpy()[0]\n",
        "print(\"Predicted class ID:\", pred_label)"
      ],
      "metadata": {
        "id": "zZ6i0VwE1drD"
      },
      "execution_count": null,
      "outputs": []
    },
    {
      "cell_type": "code",
      "source": [
        "#0:apply makeup\n",
        "#1:apply lipstick\n",
        "#2: archery\n",
        "\n",
        "#ngl pretty good.\n"
      ],
      "metadata": {
        "id": "I0dtO-Qy1Ojp"
      },
      "execution_count": 139,
      "outputs": []
    },
    {
      "cell_type": "markdown",
      "source": [
        "# Model Creation"
      ],
      "metadata": {
        "id": "fVdXdAxn1kjq"
      }
    },
    {
      "cell_type": "code",
      "source": [],
      "metadata": {
        "id": "Um66bpNO1kQk"
      },
      "execution_count": null,
      "outputs": []
    },
    {
      "cell_type": "code",
      "source": [],
      "metadata": {
        "id": "sTaWzlLa1j3X"
      },
      "execution_count": null,
      "outputs": []
    }
  ]
}